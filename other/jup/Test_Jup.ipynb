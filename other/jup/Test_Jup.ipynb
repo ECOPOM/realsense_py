{
 "cells": [
  {
   "cell_type": "code",
   "execution_count": 2,
   "metadata": {},
   "outputs": [],
   "source": [
    "import pyrealsense2"
   ]
  },
  {
   "cell_type": "code",
   "execution_count": 3,
   "metadata": {
    "tags": []
   },
   "outputs": [
    {
     "output_type": "stream",
     "name": "stdout",
     "text": "Hi\n"
    }
   ],
   "source": [
    "print('Hi')"
   ]
  }
 ],
 "metadata": {
  "language_info": {
   "codemirror_mode": {
    "name": "ipython",
    "version": 3
   },
   "file_extension": ".py",
   "mimetype": "text/x-python",
   "name": "python",
   "nbconvert_exporter": "python",
   "pygments_lexer": "ipython3",
   "version": "3.7.6-final"
  },
  "orig_nbformat": 2,
  "kernelspec": {
   "name": "python37664bit3dconda6e85e61c93d749578a2ffb145b148d42",
   "display_name": "Python 3.7.6 64-bit ('3D': conda)"
  }
 },
 "nbformat": 4,
 "nbformat_minor": 2
}